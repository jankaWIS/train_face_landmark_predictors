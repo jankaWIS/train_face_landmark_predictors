{
 "cells": [
  {
   "cell_type": "markdown",
   "id": "retired-beaver",
   "metadata": {},
   "source": [
    "## OpenCV face detector\n",
    "\n",
    "This ntb is short mainly because I think that all the other methods mentioned in other places outperform this one. The tutorial or explanation of the method is accessible at [OpenCV](https://docs.opencv.org/3.4/d2/d99/tutorial_js_face_detection.html), newer version which I recommend checking out **[here](https://opencv-python-tutroals.readthedocs.io/en/latest/py_tutorials/py_objdetect/py_face_detection/py_face_detection.html)**. At the moment, there are several [prepared xml files](https://github.com/opencv/opencv/tree/master/data/haarcascades). Those **have to be downloaded**, otherwise the code below does not work. The two needed are attached for reproducibility of this ntb. Please refer to their [Github page](https://github.com/opencv/opencv) for more information. Also, have a look at the [tutorial Github](https://github.com/abidrahmank/OpenCV2-Python-Tutorials/tree/master/source/py_tutorials/py_objdetect/py_face_detection) page by *abidragmank* or another [github page](https://github.com/manishsingh7163/Face-Detection) by *manishsingh7163*.\n",
    "\n",
    "Another well-written and broad explanation about Haar and Cascade classifiers is [here](https://www.bogotobogo.com/python/OpenCV_Python/python_opencv3_Image_Object_Detection_Face_Detection_Haar_Cascade_Classifiers.php).\n",
    "\n",
    "You can also check here for [video](https://towardsdatascience.com/face-detection-in-2-minutes-using-opencv-python-90f89d7c0f81)."
   ]
  },
  {
   "cell_type": "code",
   "execution_count": null,
   "id": "public-signature",
   "metadata": {},
   "outputs": [],
   "source": []
  },
  {
   "cell_type": "markdown",
   "id": "abroad-improvement",
   "metadata": {},
   "source": [
    "## OpenCV face and eye detector\n",
    "\n",
    "All the code (with small modifications) and information below come from this post:\n",
    "https://learning.oreilly.com/library/view/hands-on-image-processing/9781789343731/c523fa59-36d1-4be0-bdef-84e22d045b58.xhtml"
   ]
  },
  {
   "cell_type": "markdown",
   "id": "pretty-frost",
   "metadata": {},
   "source": [
    "\n",
    "\"\"\"\n",
    "**Face/eye detection with OpenCV using pre-trained classifiers with Haar-cascade features**\n",
    "\n",
    "OpenCV comes with a trainer as well as a detector. In this section, we will demonstrate the detection (skip training a model) with the pre-trained classifiers for face, eyes, smile, and so on. OpenCV already contains many such models already trained; we are going to use them instead of training a classifier from scratch. These pre-trained classifiers are serialized as XML files and come with an OpenCV installation (this can be found in the opencv/data/haarcascades/ folder). \n",
    "\n",
    "In order to detect a face from an input image, first we need to load the required XML classifiers, and then load the input image (in grayscale mode). The faces in the image can be found using the detectMultiScale() function, with the pre-trained cascade classifier. This function accepts the following parameters:\n",
    "\n",
    "    scaleFactor: A parameter that specifies how much the image size is reduced at each image scale and used to create a scale pyramid (for example, scale factor 1.2 means reduce the size by 20%). The smaller the scaleFactor, the more chance a matching size with the model for detection is found.\n",
    "    \n",
    "    minNeighbors: A parameter that specifies how many neighbors each candidate rectangle needs to retain. This parameter affects the quality of the detected faces; a higher value results in less detection, but with higher quality.\n",
    "    \n",
    "    minSize and maxSize: These are the minimum and maximum possible object size, respectively. Objects of sizes beyond these values will be ignored.\n",
    "\n",
    "If faces are found, the function returns the positions of detected faces as Rect(x, y, w, h). Once these locations are obtained, a ROI (region of interest) for the face can be created, and then the eye detection on this ROI is applied (since eyes are always on the face). The following code block demonstrates how to create a face and eye detector with python-opencv using different pre-trained classifiers (suitable for face detection with classifiers pre-trained using frontal faces, upper bodies, or pre-trained classifiers for eye detection, trained using eyes with/without glasses):\n",
    "\n",
    "```python\n",
    "opencv_haar_path = './' #'C:/opencv/data/haarcascades/' # provide proper opencv installation path\n",
    "face_cascade = cv2.CascadeClassifier(opencv_haar_path + 'haarcascade_frontalface_default.xml')\n",
    "eye_cascade = cv2.CascadeClassifier(opencv_haar_path + 'haarcascade_eye.xml')\n",
    "#eye_cascade = cv2.CascadeClassifier(opencv_haar_path + 'haarcascade_eye_tree_eyeglasses.xml') # eye with glasses\n",
    "\n",
    "img = cv2.imread('../images/lena.jpg')\n",
    "gray = cv2.cvtColor(img, cv2.COLOR_BGR2GRAY)\n",
    "faces = face_cascade.detectMultiScale(gray, 1.2, 5) # scaleFactor=1.2, minNbr=5\n",
    "print(len(faces)) # number of faces detected\n",
    "for (x,y,w,h) in faces:\n",
    "    img = cv2.rectangle(img,(x,y),(x+w,y+h),(255,0,0),2)\n",
    "    roi_gray = gray[y:y+h, x:x+w]\n",
    "    roi_color = img[y:y+h, x:x+w]\n",
    "    eyes = eye_cascade.detectMultiScale(roi_gray)\n",
    "    print(eyes) # location of eyes detected\n",
    "    for (ex,ey,ew,eh) in eyes:\n",
    "        cv2.rectangle(roi_color,(ex,ey),(ex+ew,ey+eh),(0,255,0),2)\n",
    "        cv2.imwrite('../images/lena_face_detected.jpg', img)\n",
    "\n",
    "```\n",
    "\n",
    "The following two screenshots show the output of the preceding code block, with different pre-trained Haar cascade classifiers (eye and eye_tree_glass classifiers, respectively) and a couple of different input face images, the first one without and the second one with glasses:\n",
    "\n",
    "\"\"\""
   ]
  },
  {
   "cell_type": "markdown",
   "id": "mathematical-cartoon",
   "metadata": {},
   "source": [
    "---\n",
    "There is, however, something which did not work. Namely the sourcing of the files, see this [Stack post](https://stackoverflow.com/questions/30508922/error-215-empty-in-function-detectmultiscale). That has been fixed below."
   ]
  },
  {
   "cell_type": "code",
   "execution_count": 1,
   "id": "matched-section",
   "metadata": {},
   "outputs": [
    {
     "name": "stdout",
     "output_type": "stream",
     "text": [
      "Detected: 1 face(s)\n",
      "Location of the eyes: \n",
      "[[ 7 11 25 25]\n",
      " [34 13 22 22]]\n"
     ]
    }
   ],
   "source": [
    "import numpy as np\n",
    "import cv2\n",
    "import os\n",
    "\n",
    "opencv_haar_path = cv2.data.haarcascades \n",
    "\n",
    "\n",
    "face_cascade = cv2.CascadeClassifier(opencv_haar_path + 'haarcascade_frontalface_default.xml')\n",
    "eye_cascade = cv2.CascadeClassifier(opencv_haar_path + 'haarcascade_eye.xml')\n",
    "#eye_cascade = cv2.CascadeClassifier(opencv_haar_path + 'haarcascade_eye_tree_eyeglasses.xml') # eye with glasses\n",
    "image_name = \"lenna.png\"\n",
    "image_path = os.path.join(os.getcwd(), image_name)\n",
    "\n",
    "\n",
    "img = cv2.imread(image_path)\n",
    "gray = cv2.cvtColor(img, cv2.COLOR_BGR2GRAY)\n",
    "faces = face_cascade.detectMultiScale(gray, 1.2, 5) # scaleFactor=1.2, minNbr=5\n",
    "print(f\"Detected: {len(faces)} face(s)\") # number of faces detected\n",
    "for (x,y,w,h) in faces:\n",
    "    img = cv2.rectangle(img,(x,y),(x+w,y+h),(255,0,0),2)\n",
    "    roi_gray = gray[y:y+h, x:x+w]\n",
    "    roi_color = img[y:y+h, x:x+w]\n",
    "    eyes = eye_cascade.detectMultiScale(roi_gray)\n",
    "    print(f\"Location of the eyes: \\n{eyes}\") # location of eyes detected\n",
    "    for (ex,ey,ew,eh) in eyes:\n",
    "        cv2.rectangle(roi_color,(ex,ey),(ex+ew,ey+eh),(0,255,0),2)\n",
    "        cv2.imwrite(os.path.join(os.getcwd(), 'roi_'+image_name), img)\n",
    "        \n",
    "cv2.imshow(\"Face landmark result\", img)\n",
    "\n",
    "# Pause screen to wait key from user to see result\n",
    "cv2.waitKey(0)\n",
    "cv2.destroyAllWindows()           "
   ]
  }
 ],
 "metadata": {
  "kernelspec": {
   "display_name": "Python 3",
   "language": "python",
   "name": "python3"
  },
  "language_info": {
   "codemirror_mode": {
    "name": "ipython",
    "version": 3
   },
   "file_extension": ".py",
   "mimetype": "text/x-python",
   "name": "python",
   "nbconvert_exporter": "python",
   "pygments_lexer": "ipython3",
   "version": "3.7.9"
  }
 },
 "nbformat": 4,
 "nbformat_minor": 5
}
